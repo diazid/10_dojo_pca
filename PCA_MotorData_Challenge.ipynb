{
 "cells": [
  {
   "cell_type": "markdown",
   "metadata": {
    "colab_type": "text",
    "id": "view-in-github"
   },
   "source": [
    "<a href=\"https://colab.research.google.com/github/coding-dojo-data-science/week-10-lecture-2-pca/blob/main/11_7_23_PCA_MotorData_Challenge.ipynb\" target=\"_parent\"><img src=\"https://colab.research.google.com/assets/colab-badge.svg\" alt=\"Open In Colab\"/></a>"
   ]
  },
  {
   "cell_type": "markdown",
   "metadata": {
    "id": "X2Ns7BSwdsxq"
   },
   "source": [
    "# Predict Machine Failure\n",
    "\n",
    "The task is to predict the condition of a motor based on the features provided.\n",
    "\n",
    "This is ultimately a supervised learning task, but we will add PCA to our pre-processing step.\n",
    "\n",
    "The goal here is to get the highest overall accuracy."
   ]
  },
  {
   "cell_type": "code",
   "execution_count": 1,
   "metadata": {
    "id": "c31c29a5"
   },
   "outputs": [],
   "source": [
    "import pandas as pd\n",
    "from seaborn import heatmap\n",
    "from sklearn.decomposition import PCA\n",
    "from sklearn.preprocessing import StandardScaler\n",
    "from sklearn.model_selection import train_test_split, GridSearchCV\n",
    "from sklearn.pipeline import make_pipeline\n",
    "from sklearn.neighbors import KNeighborsClassifier\n",
    "from sklearn.metrics import classification_report\n",
    "import matplotlib.pyplot as plt"
   ]
  },
  {
   "cell_type": "code",
   "execution_count": 2,
   "metadata": {
    "id": "xfJGnI6dotaV"
   },
   "outputs": [
    {
     "data": {
      "text/html": [
       "<div>\n",
       "<style scoped>\n",
       "    .dataframe tbody tr th:only-of-type {\n",
       "        vertical-align: middle;\n",
       "    }\n",
       "\n",
       "    .dataframe tbody tr th {\n",
       "        vertical-align: top;\n",
       "    }\n",
       "\n",
       "    .dataframe thead th {\n",
       "        text-align: right;\n",
       "    }\n",
       "</style>\n",
       "<table border=\"1\" class=\"dataframe\">\n",
       "  <thead>\n",
       "    <tr style=\"text-align: right;\">\n",
       "      <th></th>\n",
       "      <th>Column1</th>\n",
       "      <th>Column2</th>\n",
       "      <th>Column3</th>\n",
       "      <th>Column4</th>\n",
       "      <th>Column5</th>\n",
       "      <th>Column6</th>\n",
       "      <th>Column7</th>\n",
       "      <th>Column8</th>\n",
       "      <th>Column9</th>\n",
       "      <th>Column10</th>\n",
       "      <th>...</th>\n",
       "      <th>Column40</th>\n",
       "      <th>Column41</th>\n",
       "      <th>Column42</th>\n",
       "      <th>Column43</th>\n",
       "      <th>Column44</th>\n",
       "      <th>Column45</th>\n",
       "      <th>Column46</th>\n",
       "      <th>Column47</th>\n",
       "      <th>Column48</th>\n",
       "      <th>Column49</th>\n",
       "    </tr>\n",
       "  </thead>\n",
       "  <tbody>\n",
       "    <tr>\n",
       "      <th>0</th>\n",
       "      <td>-3.014600e-07</td>\n",
       "      <td>8.260300e-06</td>\n",
       "      <td>-0.000012</td>\n",
       "      <td>-0.000002</td>\n",
       "      <td>-1.438600e-06</td>\n",
       "      <td>-0.000021</td>\n",
       "      <td>0.031718</td>\n",
       "      <td>0.031710</td>\n",
       "      <td>0.031721</td>\n",
       "      <td>-0.032963</td>\n",
       "      <td>...</td>\n",
       "      <td>-0.63308</td>\n",
       "      <td>2.9646</td>\n",
       "      <td>8.1198</td>\n",
       "      <td>-1.4961</td>\n",
       "      <td>-1.4961</td>\n",
       "      <td>-1.4961</td>\n",
       "      <td>-1.4996</td>\n",
       "      <td>-1.4996</td>\n",
       "      <td>-1.4996</td>\n",
       "      <td>1</td>\n",
       "    </tr>\n",
       "    <tr>\n",
       "      <th>1</th>\n",
       "      <td>2.913200e-06</td>\n",
       "      <td>-5.247700e-06</td>\n",
       "      <td>0.000003</td>\n",
       "      <td>-0.000006</td>\n",
       "      <td>2.778900e-06</td>\n",
       "      <td>-0.000004</td>\n",
       "      <td>0.030804</td>\n",
       "      <td>0.030810</td>\n",
       "      <td>0.030806</td>\n",
       "      <td>-0.033520</td>\n",
       "      <td>...</td>\n",
       "      <td>-0.59314</td>\n",
       "      <td>7.6252</td>\n",
       "      <td>6.1690</td>\n",
       "      <td>-1.4967</td>\n",
       "      <td>-1.4967</td>\n",
       "      <td>-1.4967</td>\n",
       "      <td>-1.5005</td>\n",
       "      <td>-1.5005</td>\n",
       "      <td>-1.5005</td>\n",
       "      <td>1</td>\n",
       "    </tr>\n",
       "    <tr>\n",
       "      <th>2</th>\n",
       "      <td>-2.951700e-06</td>\n",
       "      <td>-3.184000e-06</td>\n",
       "      <td>-0.000016</td>\n",
       "      <td>-0.000001</td>\n",
       "      <td>-1.575300e-06</td>\n",
       "      <td>0.000017</td>\n",
       "      <td>0.032877</td>\n",
       "      <td>0.032880</td>\n",
       "      <td>0.032896</td>\n",
       "      <td>-0.029834</td>\n",
       "      <td>...</td>\n",
       "      <td>-0.63252</td>\n",
       "      <td>2.7784</td>\n",
       "      <td>5.3017</td>\n",
       "      <td>-1.4983</td>\n",
       "      <td>-1.4983</td>\n",
       "      <td>-1.4982</td>\n",
       "      <td>-1.4985</td>\n",
       "      <td>-1.4985</td>\n",
       "      <td>-1.4985</td>\n",
       "      <td>1</td>\n",
       "    </tr>\n",
       "    <tr>\n",
       "      <th>3</th>\n",
       "      <td>-1.322600e-06</td>\n",
       "      <td>8.820100e-06</td>\n",
       "      <td>-0.000016</td>\n",
       "      <td>-0.000005</td>\n",
       "      <td>-7.282900e-07</td>\n",
       "      <td>0.000004</td>\n",
       "      <td>0.029410</td>\n",
       "      <td>0.029401</td>\n",
       "      <td>0.029417</td>\n",
       "      <td>-0.030156</td>\n",
       "      <td>...</td>\n",
       "      <td>-0.62289</td>\n",
       "      <td>6.5534</td>\n",
       "      <td>6.2606</td>\n",
       "      <td>-1.4963</td>\n",
       "      <td>-1.4963</td>\n",
       "      <td>-1.4963</td>\n",
       "      <td>-1.4975</td>\n",
       "      <td>-1.4975</td>\n",
       "      <td>-1.4976</td>\n",
       "      <td>1</td>\n",
       "    </tr>\n",
       "    <tr>\n",
       "      <th>4</th>\n",
       "      <td>-6.836600e-08</td>\n",
       "      <td>5.666300e-07</td>\n",
       "      <td>-0.000026</td>\n",
       "      <td>-0.000006</td>\n",
       "      <td>-7.940600e-07</td>\n",
       "      <td>0.000013</td>\n",
       "      <td>0.030119</td>\n",
       "      <td>0.030119</td>\n",
       "      <td>0.030145</td>\n",
       "      <td>-0.031393</td>\n",
       "      <td>...</td>\n",
       "      <td>-0.63010</td>\n",
       "      <td>4.5155</td>\n",
       "      <td>9.5231</td>\n",
       "      <td>-1.4958</td>\n",
       "      <td>-1.4958</td>\n",
       "      <td>-1.4958</td>\n",
       "      <td>-1.4959</td>\n",
       "      <td>-1.4959</td>\n",
       "      <td>-1.4959</td>\n",
       "      <td>1</td>\n",
       "    </tr>\n",
       "  </tbody>\n",
       "</table>\n",
       "<p>5 rows × 49 columns</p>\n",
       "</div>"
      ],
      "text/plain": [
       "        Column1       Column2   Column3   Column4       Column5   Column6  \\\n",
       "0 -3.014600e-07  8.260300e-06 -0.000012 -0.000002 -1.438600e-06 -0.000021   \n",
       "1  2.913200e-06 -5.247700e-06  0.000003 -0.000006  2.778900e-06 -0.000004   \n",
       "2 -2.951700e-06 -3.184000e-06 -0.000016 -0.000001 -1.575300e-06  0.000017   \n",
       "3 -1.322600e-06  8.820100e-06 -0.000016 -0.000005 -7.282900e-07  0.000004   \n",
       "4 -6.836600e-08  5.666300e-07 -0.000026 -0.000006 -7.940600e-07  0.000013   \n",
       "\n",
       "    Column7   Column8   Column9  Column10  ...  Column40  Column41  Column42  \\\n",
       "0  0.031718  0.031710  0.031721 -0.032963  ...  -0.63308    2.9646    8.1198   \n",
       "1  0.030804  0.030810  0.030806 -0.033520  ...  -0.59314    7.6252    6.1690   \n",
       "2  0.032877  0.032880  0.032896 -0.029834  ...  -0.63252    2.7784    5.3017   \n",
       "3  0.029410  0.029401  0.029417 -0.030156  ...  -0.62289    6.5534    6.2606   \n",
       "4  0.030119  0.030119  0.030145 -0.031393  ...  -0.63010    4.5155    9.5231   \n",
       "\n",
       "   Column43  Column44  Column45  Column46  Column47  Column48  Column49  \n",
       "0   -1.4961   -1.4961   -1.4961   -1.4996   -1.4996   -1.4996         1  \n",
       "1   -1.4967   -1.4967   -1.4967   -1.5005   -1.5005   -1.5005         1  \n",
       "2   -1.4983   -1.4983   -1.4982   -1.4985   -1.4985   -1.4985         1  \n",
       "3   -1.4963   -1.4963   -1.4963   -1.4975   -1.4975   -1.4976         1  \n",
       "4   -1.4958   -1.4958   -1.4958   -1.4959   -1.4959   -1.4959         1  \n",
       "\n",
       "[5 rows x 49 columns]"
      ]
     },
     "execution_count": 2,
     "metadata": {},
     "output_type": "execute_result"
    }
   ],
   "source": [
    "# load data\n",
    "url = 'Data/Sensorless_RAW (1).csv'\n",
    "df = pd.read_csv(url)\n",
    "df.head()"
   ]
  },
  {
   "cell_type": "code",
   "execution_count": 3,
   "metadata": {
    "id": "W4I-5mCFjd6a"
   },
   "outputs": [
    {
     "data": {
      "text/plain": [
       "array([ 1,  2,  3,  4,  5,  6,  7,  8,  9, 10, 11], dtype=int64)"
      ]
     },
     "execution_count": 3,
     "metadata": {},
     "output_type": "execute_result"
    }
   ],
   "source": [
    "df['Column49'].unique()"
   ]
  },
  {
   "cell_type": "code",
   "execution_count": 4,
   "metadata": {
    "id": "_wFR0e3v9iIo"
   },
   "outputs": [
    {
     "data": {
      "text/plain": [
       "0"
      ]
     },
     "execution_count": 4,
     "metadata": {},
     "output_type": "execute_result"
    }
   ],
   "source": [
    "# Check for duplicates\n",
    "df.duplicated().sum()"
   ]
  },
  {
   "cell_type": "code",
   "execution_count": 5,
   "metadata": {
    "id": "LU03v_ZmpQEB"
   },
   "outputs": [
    {
     "name": "stdout",
     "output_type": "stream",
     "text": [
      "<class 'pandas.core.frame.DataFrame'>\n",
      "RangeIndex: 58509 entries, 0 to 58508\n",
      "Data columns (total 49 columns):\n",
      " #   Column    Non-Null Count  Dtype  \n",
      "---  ------    --------------  -----  \n",
      " 0   Column1   58509 non-null  float64\n",
      " 1   Column2   58509 non-null  float64\n",
      " 2   Column3   58509 non-null  float64\n",
      " 3   Column4   58509 non-null  float64\n",
      " 4   Column5   58509 non-null  float64\n",
      " 5   Column6   58509 non-null  float64\n",
      " 6   Column7   58509 non-null  float64\n",
      " 7   Column8   58509 non-null  float64\n",
      " 8   Column9   58509 non-null  float64\n",
      " 9   Column10  58509 non-null  float64\n",
      " 10  Column11  58509 non-null  float64\n",
      " 11  Column12  58509 non-null  float64\n",
      " 12  Column13  58509 non-null  float64\n",
      " 13  Column14  58509 non-null  float64\n",
      " 14  Column15  58509 non-null  float64\n",
      " 15  Column16  58509 non-null  float64\n",
      " 16  Column17  58509 non-null  float64\n",
      " 17  Column18  58509 non-null  float64\n",
      " 18  Column19  58509 non-null  float64\n",
      " 19  Column20  58509 non-null  float64\n",
      " 20  Column21  58509 non-null  float64\n",
      " 21  Column22  58509 non-null  float64\n",
      " 22  Column23  58509 non-null  float64\n",
      " 23  Column24  58509 non-null  float64\n",
      " 24  Column25  58509 non-null  float64\n",
      " 25  Column26  58509 non-null  float64\n",
      " 26  Column27  58509 non-null  float64\n",
      " 27  Column28  58509 non-null  float64\n",
      " 28  Column29  58509 non-null  float64\n",
      " 29  Column30  58509 non-null  float64\n",
      " 30  Column31  58509 non-null  float64\n",
      " 31  Column32  58509 non-null  float64\n",
      " 32  Column33  58509 non-null  float64\n",
      " 33  Column34  58509 non-null  float64\n",
      " 34  Column35  58509 non-null  float64\n",
      " 35  Column36  58509 non-null  float64\n",
      " 36  Column37  58509 non-null  float64\n",
      " 37  Column38  58509 non-null  float64\n",
      " 38  Column39  58509 non-null  float64\n",
      " 39  Column40  58509 non-null  float64\n",
      " 40  Column41  58509 non-null  float64\n",
      " 41  Column42  58509 non-null  float64\n",
      " 42  Column43  58509 non-null  float64\n",
      " 43  Column44  58509 non-null  float64\n",
      " 44  Column45  58509 non-null  float64\n",
      " 45  Column46  58509 non-null  float64\n",
      " 46  Column47  58509 non-null  float64\n",
      " 47  Column48  58509 non-null  float64\n",
      " 48  Column49  58509 non-null  int64  \n",
      "dtypes: float64(48), int64(1)\n",
      "memory usage: 21.9 MB\n"
     ]
    }
   ],
   "source": [
    "# Explore shape and datatypes of the data\n",
    "df.info()\n"
   ]
  },
  {
   "cell_type": "code",
   "execution_count": 6,
   "metadata": {
    "id": "2oL-6yL-pSy7"
   },
   "outputs": [
    {
     "data": {
      "text/plain": [
       "Column1     0\n",
       "Column2     0\n",
       "Column3     0\n",
       "Column4     0\n",
       "Column5     0\n",
       "Column6     0\n",
       "Column7     0\n",
       "Column8     0\n",
       "Column9     0\n",
       "Column10    0\n",
       "Column11    0\n",
       "Column12    0\n",
       "Column13    0\n",
       "Column14    0\n",
       "Column15    0\n",
       "Column16    0\n",
       "Column17    0\n",
       "Column18    0\n",
       "Column19    0\n",
       "Column20    0\n",
       "Column21    0\n",
       "Column22    0\n",
       "Column23    0\n",
       "Column24    0\n",
       "Column25    0\n",
       "Column26    0\n",
       "Column27    0\n",
       "Column28    0\n",
       "Column29    0\n",
       "Column30    0\n",
       "Column31    0\n",
       "Column32    0\n",
       "Column33    0\n",
       "Column34    0\n",
       "Column35    0\n",
       "Column36    0\n",
       "Column37    0\n",
       "Column38    0\n",
       "Column39    0\n",
       "Column40    0\n",
       "Column41    0\n",
       "Column42    0\n",
       "Column43    0\n",
       "Column44    0\n",
       "Column45    0\n",
       "Column46    0\n",
       "Column47    0\n",
       "Column48    0\n",
       "Column49    0\n",
       "dtype: int64"
      ]
     },
     "execution_count": 6,
     "metadata": {},
     "output_type": "execute_result"
    }
   ],
   "source": [
    "# Check for missing values\n",
    "df.isna().sum()"
   ]
  },
  {
   "cell_type": "code",
   "execution_count": 7,
   "metadata": {
    "id": "ner4WW2ua12m"
   },
   "outputs": [
    {
     "data": {
      "text/plain": [
       "1     5319\n",
       "2     5319\n",
       "3     5319\n",
       "4     5319\n",
       "5     5319\n",
       "6     5319\n",
       "7     5319\n",
       "8     5319\n",
       "9     5319\n",
       "10    5319\n",
       "11    5319\n",
       "Name: Column49, dtype: int64"
      ]
     },
     "execution_count": 7,
     "metadata": {},
     "output_type": "execute_result"
    }
   ],
   "source": [
    "# Explore the class balance in the target column.\n",
    "# The last column (Column 49) is the target and is an integer (This is a classification task)\n",
    "df['Column49'].value_counts()"
   ]
  },
  {
   "cell_type": "code",
   "execution_count": 8,
   "metadata": {
    "id": "zwGjBhirqfey"
   },
   "outputs": [],
   "source": [
    "# Separate the target and features.  \n",
    "X = df.drop(columns='Column49')\n",
    "y = df['Column49']\n"
   ]
  },
  {
   "cell_type": "code",
   "execution_count": 9,
   "metadata": {
    "id": "m1Ly6WbIqSbg"
   },
   "outputs": [],
   "source": [
    "# Train test split\n",
    "X_train, X_test, y_train, y_test = train_test_split(X, y, random_state=42)"
   ]
  },
  {
   "cell_type": "code",
   "execution_count": 10,
   "metadata": {
    "id": "06oRCBsv5SR8"
   },
   "outputs": [
    {
     "data": {
      "text/html": [
       "<div>\n",
       "<style scoped>\n",
       "    .dataframe tbody tr th:only-of-type {\n",
       "        vertical-align: middle;\n",
       "    }\n",
       "\n",
       "    .dataframe tbody tr th {\n",
       "        vertical-align: top;\n",
       "    }\n",
       "\n",
       "    .dataframe thead th {\n",
       "        text-align: right;\n",
       "    }\n",
       "</style>\n",
       "<table border=\"1\" class=\"dataframe\">\n",
       "  <thead>\n",
       "    <tr style=\"text-align: right;\">\n",
       "      <th></th>\n",
       "      <th>Column1</th>\n",
       "      <th>Column2</th>\n",
       "      <th>Column3</th>\n",
       "      <th>Column4</th>\n",
       "      <th>Column5</th>\n",
       "      <th>Column6</th>\n",
       "      <th>Column7</th>\n",
       "      <th>Column8</th>\n",
       "      <th>Column9</th>\n",
       "      <th>Column10</th>\n",
       "      <th>...</th>\n",
       "      <th>Column39</th>\n",
       "      <th>Column40</th>\n",
       "      <th>Column41</th>\n",
       "      <th>Column42</th>\n",
       "      <th>Column43</th>\n",
       "      <th>Column44</th>\n",
       "      <th>Column45</th>\n",
       "      <th>Column46</th>\n",
       "      <th>Column47</th>\n",
       "      <th>Column48</th>\n",
       "    </tr>\n",
       "  </thead>\n",
       "  <tbody>\n",
       "    <tr>\n",
       "      <th>count</th>\n",
       "      <td>43881.000000</td>\n",
       "      <td>4.388100e+04</td>\n",
       "      <td>4.388100e+04</td>\n",
       "      <td>43881.000000</td>\n",
       "      <td>4.388100e+04</td>\n",
       "      <td>4.388100e+04</td>\n",
       "      <td>43881.000000</td>\n",
       "      <td>43881.000000</td>\n",
       "      <td>43881.000000</td>\n",
       "      <td>43881.000000</td>\n",
       "      <td>...</td>\n",
       "      <td>43881.000000</td>\n",
       "      <td>43881.000000</td>\n",
       "      <td>43881.000000</td>\n",
       "      <td>43881.000000</td>\n",
       "      <td>43881.000000</td>\n",
       "      <td>43881.000000</td>\n",
       "      <td>43881.000000</td>\n",
       "      <td>43881.000000</td>\n",
       "      <td>43881.000000</td>\n",
       "      <td>43881.000000</td>\n",
       "    </tr>\n",
       "    <tr>\n",
       "      <th>mean</th>\n",
       "      <td>-0.000003</td>\n",
       "      <td>1.427072e-06</td>\n",
       "      <td>1.013350e-07</td>\n",
       "      <td>-0.000001</td>\n",
       "      <td>1.282729e-06</td>\n",
       "      <td>-1.960034e-07</td>\n",
       "      <td>0.001970</td>\n",
       "      <td>0.001969</td>\n",
       "      <td>0.001969</td>\n",
       "      <td>-0.011824</td>\n",
       "      <td>...</td>\n",
       "      <td>8.383915</td>\n",
       "      <td>-0.425689</td>\n",
       "      <td>7.290038</td>\n",
       "      <td>8.291361</td>\n",
       "      <td>-1.500878</td>\n",
       "      <td>-1.500903</td>\n",
       "      <td>-1.500795</td>\n",
       "      <td>-1.497776</td>\n",
       "      <td>-1.497798</td>\n",
       "      <td>-1.497691</td>\n",
       "    </tr>\n",
       "    <tr>\n",
       "      <th>std</th>\n",
       "      <td>0.000072</td>\n",
       "      <td>5.340336e-05</td>\n",
       "      <td>2.370628e-04</td>\n",
       "      <td>0.000062</td>\n",
       "      <td>5.728528e-05</td>\n",
       "      <td>2.242847e-04</td>\n",
       "      <td>0.036346</td>\n",
       "      <td>0.036344</td>\n",
       "      <td>0.036349</td>\n",
       "      <td>0.066168</td>\n",
       "      <td>...</td>\n",
       "      <td>6.758397</td>\n",
       "      <td>24.069049</td>\n",
       "      <td>12.658098</td>\n",
       "      <td>6.599908</td>\n",
       "      <td>0.003652</td>\n",
       "      <td>0.003662</td>\n",
       "      <td>0.003628</td>\n",
       "      <td>0.003180</td>\n",
       "      <td>0.003183</td>\n",
       "      <td>0.003193</td>\n",
       "    </tr>\n",
       "    <tr>\n",
       "      <th>min</th>\n",
       "      <td>-0.013721</td>\n",
       "      <td>-3.956100e-03</td>\n",
       "      <td>-1.358000e-02</td>\n",
       "      <td>-0.012787</td>\n",
       "      <td>-8.355900e-03</td>\n",
       "      <td>-9.741300e-03</td>\n",
       "      <td>-0.139890</td>\n",
       "      <td>-0.135940</td>\n",
       "      <td>-0.130860</td>\n",
       "      <td>-0.218640</td>\n",
       "      <td>...</td>\n",
       "      <td>0.522180</td>\n",
       "      <td>-0.891000</td>\n",
       "      <td>-0.594710</td>\n",
       "      <td>0.320660</td>\n",
       "      <td>-1.525500</td>\n",
       "      <td>-1.526200</td>\n",
       "      <td>-1.523700</td>\n",
       "      <td>-1.519900</td>\n",
       "      <td>-1.520000</td>\n",
       "      <td>-1.519500</td>\n",
       "    </tr>\n",
       "    <tr>\n",
       "      <th>25%</th>\n",
       "      <td>-0.000007</td>\n",
       "      <td>-1.447700e-05</td>\n",
       "      <td>-7.341600e-05</td>\n",
       "      <td>-0.000005</td>\n",
       "      <td>-1.467900e-05</td>\n",
       "      <td>-7.378500e-05</td>\n",
       "      <td>-0.019621</td>\n",
       "      <td>-0.019642</td>\n",
       "      <td>-0.019648</td>\n",
       "      <td>-0.032054</td>\n",
       "      <td>...</td>\n",
       "      <td>4.457100</td>\n",
       "      <td>-0.715300</td>\n",
       "      <td>1.450200</td>\n",
       "      <td>4.447200</td>\n",
       "      <td>-1.503300</td>\n",
       "      <td>-1.503300</td>\n",
       "      <td>-1.503200</td>\n",
       "      <td>-1.499600</td>\n",
       "      <td>-1.499600</td>\n",
       "      <td>-1.499600</td>\n",
       "    </tr>\n",
       "    <tr>\n",
       "      <th>50%</th>\n",
       "      <td>-0.000003</td>\n",
       "      <td>8.402200e-07</td>\n",
       "      <td>2.135800e-07</td>\n",
       "      <td>-0.000001</td>\n",
       "      <td>7.515400e-07</td>\n",
       "      <td>-2.718900e-07</td>\n",
       "      <td>0.013213</td>\n",
       "      <td>0.013214</td>\n",
       "      <td>0.013239</td>\n",
       "      <td>-0.015604</td>\n",
       "      <td>...</td>\n",
       "      <td>6.565400</td>\n",
       "      <td>-0.661340</td>\n",
       "      <td>3.293400</td>\n",
       "      <td>6.480300</td>\n",
       "      <td>-1.500300</td>\n",
       "      <td>-1.500300</td>\n",
       "      <td>-1.500200</td>\n",
       "      <td>-1.498100</td>\n",
       "      <td>-1.498100</td>\n",
       "      <td>-1.498000</td>\n",
       "    </tr>\n",
       "    <tr>\n",
       "      <th>75%</th>\n",
       "      <td>0.000002</td>\n",
       "      <td>1.864600e-05</td>\n",
       "      <td>7.413100e-05</td>\n",
       "      <td>0.000004</td>\n",
       "      <td>1.897100e-05</td>\n",
       "      <td>7.170300e-05</td>\n",
       "      <td>0.024703</td>\n",
       "      <td>0.024706</td>\n",
       "      <td>0.024715</td>\n",
       "      <td>0.020565</td>\n",
       "      <td>...</td>\n",
       "      <td>9.943400</td>\n",
       "      <td>-0.574470</td>\n",
       "      <td>8.286000</td>\n",
       "      <td>9.876300</td>\n",
       "      <td>-1.498200</td>\n",
       "      <td>-1.498200</td>\n",
       "      <td>-1.498200</td>\n",
       "      <td>-1.496200</td>\n",
       "      <td>-1.496300</td>\n",
       "      <td>-1.496200</td>\n",
       "    </tr>\n",
       "    <tr>\n",
       "      <th>max</th>\n",
       "      <td>0.005784</td>\n",
       "      <td>4.525300e-03</td>\n",
       "      <td>5.237700e-03</td>\n",
       "      <td>0.000622</td>\n",
       "      <td>4.905300e-04</td>\n",
       "      <td>2.395600e-03</td>\n",
       "      <td>0.069125</td>\n",
       "      <td>0.069130</td>\n",
       "      <td>0.069131</td>\n",
       "      <td>0.352580</td>\n",
       "      <td>...</td>\n",
       "      <td>125.490000</td>\n",
       "      <td>3670.800000</td>\n",
       "      <td>889.930000</td>\n",
       "      <td>153.150000</td>\n",
       "      <td>-1.457600</td>\n",
       "      <td>-1.456100</td>\n",
       "      <td>-1.455500</td>\n",
       "      <td>-1.337200</td>\n",
       "      <td>-1.337200</td>\n",
       "      <td>-1.337100</td>\n",
       "    </tr>\n",
       "  </tbody>\n",
       "</table>\n",
       "<p>8 rows × 48 columns</p>\n",
       "</div>"
      ],
      "text/plain": [
       "            Column1       Column2       Column3       Column4       Column5  \\\n",
       "count  43881.000000  4.388100e+04  4.388100e+04  43881.000000  4.388100e+04   \n",
       "mean      -0.000003  1.427072e-06  1.013350e-07     -0.000001  1.282729e-06   \n",
       "std        0.000072  5.340336e-05  2.370628e-04      0.000062  5.728528e-05   \n",
       "min       -0.013721 -3.956100e-03 -1.358000e-02     -0.012787 -8.355900e-03   \n",
       "25%       -0.000007 -1.447700e-05 -7.341600e-05     -0.000005 -1.467900e-05   \n",
       "50%       -0.000003  8.402200e-07  2.135800e-07     -0.000001  7.515400e-07   \n",
       "75%        0.000002  1.864600e-05  7.413100e-05      0.000004  1.897100e-05   \n",
       "max        0.005784  4.525300e-03  5.237700e-03      0.000622  4.905300e-04   \n",
       "\n",
       "            Column6       Column7       Column8       Column9      Column10  \\\n",
       "count  4.388100e+04  43881.000000  43881.000000  43881.000000  43881.000000   \n",
       "mean  -1.960034e-07      0.001970      0.001969      0.001969     -0.011824   \n",
       "std    2.242847e-04      0.036346      0.036344      0.036349      0.066168   \n",
       "min   -9.741300e-03     -0.139890     -0.135940     -0.130860     -0.218640   \n",
       "25%   -7.378500e-05     -0.019621     -0.019642     -0.019648     -0.032054   \n",
       "50%   -2.718900e-07      0.013213      0.013214      0.013239     -0.015604   \n",
       "75%    7.170300e-05      0.024703      0.024706      0.024715      0.020565   \n",
       "max    2.395600e-03      0.069125      0.069130      0.069131      0.352580   \n",
       "\n",
       "       ...      Column39      Column40      Column41      Column42  \\\n",
       "count  ...  43881.000000  43881.000000  43881.000000  43881.000000   \n",
       "mean   ...      8.383915     -0.425689      7.290038      8.291361   \n",
       "std    ...      6.758397     24.069049     12.658098      6.599908   \n",
       "min    ...      0.522180     -0.891000     -0.594710      0.320660   \n",
       "25%    ...      4.457100     -0.715300      1.450200      4.447200   \n",
       "50%    ...      6.565400     -0.661340      3.293400      6.480300   \n",
       "75%    ...      9.943400     -0.574470      8.286000      9.876300   \n",
       "max    ...    125.490000   3670.800000    889.930000    153.150000   \n",
       "\n",
       "           Column43      Column44      Column45      Column46      Column47  \\\n",
       "count  43881.000000  43881.000000  43881.000000  43881.000000  43881.000000   \n",
       "mean      -1.500878     -1.500903     -1.500795     -1.497776     -1.497798   \n",
       "std        0.003652      0.003662      0.003628      0.003180      0.003183   \n",
       "min       -1.525500     -1.526200     -1.523700     -1.519900     -1.520000   \n",
       "25%       -1.503300     -1.503300     -1.503200     -1.499600     -1.499600   \n",
       "50%       -1.500300     -1.500300     -1.500200     -1.498100     -1.498100   \n",
       "75%       -1.498200     -1.498200     -1.498200     -1.496200     -1.496300   \n",
       "max       -1.457600     -1.456100     -1.455500     -1.337200     -1.337200   \n",
       "\n",
       "           Column48  \n",
       "count  43881.000000  \n",
       "mean      -1.497691  \n",
       "std        0.003193  \n",
       "min       -1.519500  \n",
       "25%       -1.499600  \n",
       "50%       -1.498000  \n",
       "75%       -1.496200  \n",
       "max       -1.337100  \n",
       "\n",
       "[8 rows x 48 columns]"
      ]
     },
     "execution_count": 10,
     "metadata": {},
     "output_type": "execute_result"
    }
   ],
   "source": [
    "X_train.describe()"
   ]
  },
  {
   "cell_type": "markdown",
   "metadata": {
    "id": "5aq1lyWqA-4o"
   },
   "source": [
    "# 1. Create a processing pipeline\n",
    "\n",
    "Create a pipeline that preprocesses the data and applies PCA.  The resulting principal components should retain 95% of the variance of the original features."
   ]
  },
  {
   "cell_type": "code",
   "execution_count": 11,
   "metadata": {
    "id": "80N90m9c3box"
   },
   "outputs": [
    {
     "data": {
      "text/plain": [
       "(43881, 20)"
      ]
     },
     "execution_count": 11,
     "metadata": {},
     "output_type": "execute_result"
    }
   ],
   "source": [
    "# Create a scaler\n",
    "scale =  StandardScaler()\n",
    "# Create a PCA object that will retain 95% of the variance when transforming\n",
    "pca = PCA(n_components=0.95)\n",
    "# Combine the scaler and the PCA in a pipeline.\n",
    "pipe = make_pipeline(scale, pca)\n",
    "# Transform the training data and check shape of new features after applying PCA\n",
    "pipe.fit_transform(X_train).shape"
   ]
  },
  {
   "cell_type": "markdown",
   "metadata": {
    "id": "7A5m_ZBpuMcm"
   },
   "source": [
    "# Create a KNN classification model **WITHOUT** PCA and check the accuracy\n"
   ]
  },
  {
   "cell_type": "code",
   "execution_count": 26,
   "metadata": {
    "id": "cG7XTevFA3eV"
   },
   "outputs": [
    {
     "name": "stdout",
     "output_type": "stream",
     "text": [
      "CPU times: total: 31.2 ms\n",
      "Wall time: 57.2 ms\n"
     ]
    },
    {
     "data": {
      "text/html": [
       "<style>#sk-container-id-5 {color: black;background-color: white;}#sk-container-id-5 pre{padding: 0;}#sk-container-id-5 div.sk-toggleable {background-color: white;}#sk-container-id-5 label.sk-toggleable__label {cursor: pointer;display: block;width: 100%;margin-bottom: 0;padding: 0.3em;box-sizing: border-box;text-align: center;}#sk-container-id-5 label.sk-toggleable__label-arrow:before {content: \"▸\";float: left;margin-right: 0.25em;color: #696969;}#sk-container-id-5 label.sk-toggleable__label-arrow:hover:before {color: black;}#sk-container-id-5 div.sk-estimator:hover label.sk-toggleable__label-arrow:before {color: black;}#sk-container-id-5 div.sk-toggleable__content {max-height: 0;max-width: 0;overflow: hidden;text-align: left;background-color: #f0f8ff;}#sk-container-id-5 div.sk-toggleable__content pre {margin: 0.2em;color: black;border-radius: 0.25em;background-color: #f0f8ff;}#sk-container-id-5 input.sk-toggleable__control:checked~div.sk-toggleable__content {max-height: 200px;max-width: 100%;overflow: auto;}#sk-container-id-5 input.sk-toggleable__control:checked~label.sk-toggleable__label-arrow:before {content: \"▾\";}#sk-container-id-5 div.sk-estimator input.sk-toggleable__control:checked~label.sk-toggleable__label {background-color: #d4ebff;}#sk-container-id-5 div.sk-label input.sk-toggleable__control:checked~label.sk-toggleable__label {background-color: #d4ebff;}#sk-container-id-5 input.sk-hidden--visually {border: 0;clip: rect(1px 1px 1px 1px);clip: rect(1px, 1px, 1px, 1px);height: 1px;margin: -1px;overflow: hidden;padding: 0;position: absolute;width: 1px;}#sk-container-id-5 div.sk-estimator {font-family: monospace;background-color: #f0f8ff;border: 1px dotted black;border-radius: 0.25em;box-sizing: border-box;margin-bottom: 0.5em;}#sk-container-id-5 div.sk-estimator:hover {background-color: #d4ebff;}#sk-container-id-5 div.sk-parallel-item::after {content: \"\";width: 100%;border-bottom: 1px solid gray;flex-grow: 1;}#sk-container-id-5 div.sk-label:hover label.sk-toggleable__label {background-color: #d4ebff;}#sk-container-id-5 div.sk-serial::before {content: \"\";position: absolute;border-left: 1px solid gray;box-sizing: border-box;top: 0;bottom: 0;left: 50%;z-index: 0;}#sk-container-id-5 div.sk-serial {display: flex;flex-direction: column;align-items: center;background-color: white;padding-right: 0.2em;padding-left: 0.2em;position: relative;}#sk-container-id-5 div.sk-item {position: relative;z-index: 1;}#sk-container-id-5 div.sk-parallel {display: flex;align-items: stretch;justify-content: center;background-color: white;position: relative;}#sk-container-id-5 div.sk-item::before, #sk-container-id-5 div.sk-parallel-item::before {content: \"\";position: absolute;border-left: 1px solid gray;box-sizing: border-box;top: 0;bottom: 0;left: 50%;z-index: -1;}#sk-container-id-5 div.sk-parallel-item {display: flex;flex-direction: column;z-index: 1;position: relative;background-color: white;}#sk-container-id-5 div.sk-parallel-item:first-child::after {align-self: flex-end;width: 50%;}#sk-container-id-5 div.sk-parallel-item:last-child::after {align-self: flex-start;width: 50%;}#sk-container-id-5 div.sk-parallel-item:only-child::after {width: 0;}#sk-container-id-5 div.sk-dashed-wrapped {border: 1px dashed gray;margin: 0 0.4em 0.5em 0.4em;box-sizing: border-box;padding-bottom: 0.4em;background-color: white;}#sk-container-id-5 div.sk-label label {font-family: monospace;font-weight: bold;display: inline-block;line-height: 1.2em;}#sk-container-id-5 div.sk-label-container {text-align: center;}#sk-container-id-5 div.sk-container {/* jupyter's `normalize.less` sets `[hidden] { display: none; }` but bootstrap.min.css set `[hidden] { display: none !important; }` so we also need the `!important` here to be able to override the default hidden behavior on the sphinx rendered scikit-learn.org. See: https://github.com/scikit-learn/scikit-learn/issues/21755 */display: inline-block !important;position: relative;}#sk-container-id-5 div.sk-text-repr-fallback {display: none;}</style><div id=\"sk-container-id-5\" class=\"sk-top-container\"><div class=\"sk-text-repr-fallback\"><pre>Pipeline(steps=[(&#x27;standardscaler&#x27;, StandardScaler()),\n",
       "                (&#x27;kneighborsclassifier&#x27;, KNeighborsClassifier(n_neighbors=1))])</pre><b>In a Jupyter environment, please rerun this cell to show the HTML representation or trust the notebook. <br />On GitHub, the HTML representation is unable to render, please try loading this page with nbviewer.org.</b></div><div class=\"sk-container\" hidden><div class=\"sk-item sk-dashed-wrapped\"><div class=\"sk-label-container\"><div class=\"sk-label sk-toggleable\"><input class=\"sk-toggleable__control sk-hidden--visually\" id=\"sk-estimator-id-13\" type=\"checkbox\" ><label for=\"sk-estimator-id-13\" class=\"sk-toggleable__label sk-toggleable__label-arrow\">Pipeline</label><div class=\"sk-toggleable__content\"><pre>Pipeline(steps=[(&#x27;standardscaler&#x27;, StandardScaler()),\n",
       "                (&#x27;kneighborsclassifier&#x27;, KNeighborsClassifier(n_neighbors=1))])</pre></div></div></div><div class=\"sk-serial\"><div class=\"sk-item\"><div class=\"sk-estimator sk-toggleable\"><input class=\"sk-toggleable__control sk-hidden--visually\" id=\"sk-estimator-id-14\" type=\"checkbox\" ><label for=\"sk-estimator-id-14\" class=\"sk-toggleable__label sk-toggleable__label-arrow\">StandardScaler</label><div class=\"sk-toggleable__content\"><pre>StandardScaler()</pre></div></div></div><div class=\"sk-item\"><div class=\"sk-estimator sk-toggleable\"><input class=\"sk-toggleable__control sk-hidden--visually\" id=\"sk-estimator-id-15\" type=\"checkbox\" ><label for=\"sk-estimator-id-15\" class=\"sk-toggleable__label sk-toggleable__label-arrow\">KNeighborsClassifier</label><div class=\"sk-toggleable__content\"><pre>KNeighborsClassifier(n_neighbors=1)</pre></div></div></div></div></div></div></div>"
      ],
      "text/plain": [
       "Pipeline(steps=[('standardscaler', StandardScaler()),\n",
       "                ('kneighborsclassifier', KNeighborsClassifier(n_neighbors=1))])"
      ]
     },
     "execution_count": 26,
     "metadata": {},
     "output_type": "execute_result"
    }
   ],
   "source": [
    "%%time\n",
    "# Create and fit a KNN model WITHOUT PCA.\n",
    "knn_nopca = make_pipeline(scale, KNeighborsClassifier(n_neighbors=1))\n",
    "\n",
    "knn_nopca.fit(X_train, y_train)"
   ]
  },
  {
   "cell_type": "code",
   "execution_count": 27,
   "metadata": {
    "id": "1JZyvoLp20u0"
   },
   "outputs": [
    {
     "name": "stdout",
     "output_type": "stream",
     "text": [
      "CPU times: total: 5.55 s\n",
      "Wall time: 1.38 s\n"
     ]
    }
   ],
   "source": [
    "%%time\n",
    "# Make predictions and evaluate the model using classification_report\n",
    "pred_nopca = knn_nopca.predict(X_test)"
   ]
  },
  {
   "cell_type": "code",
   "execution_count": 28,
   "metadata": {},
   "outputs": [
    {
     "name": "stdout",
     "output_type": "stream",
     "text": [
      "              precision    recall  f1-score   support\n",
      "\n",
      "           1       0.76      0.74      0.75      1345\n",
      "           2       0.78      0.75      0.76      1367\n",
      "           3       0.80      0.81      0.81      1304\n",
      "           4       0.83      0.82      0.82      1327\n",
      "           5       0.66      0.67      0.67      1317\n",
      "           6       0.64      0.69      0.67      1324\n",
      "           7       0.99      0.99      0.99      1379\n",
      "           8       0.74      0.74      0.74      1300\n",
      "           9       0.82      0.80      0.81      1254\n",
      "          10       0.77      0.78      0.78      1341\n",
      "          11       1.00      1.00      1.00      1370\n",
      "\n",
      "    accuracy                           0.80     14628\n",
      "   macro avg       0.80      0.80      0.80     14628\n",
      "weighted avg       0.80      0.80      0.80     14628\n",
      "\n"
     ]
    }
   ],
   "source": [
    "print(classification_report(y_test, pred_nopca))"
   ]
  },
  {
   "cell_type": "markdown",
   "metadata": {
    "id": "h8GXAAvtA1TI"
   },
   "source": [
    "# Create a KNN classification model **WITH** PCA and check the accuracy"
   ]
  },
  {
   "cell_type": "code",
   "execution_count": 29,
   "metadata": {
    "id": "Sz0jJy4-2_Kh"
   },
   "outputs": [
    {
     "name": "stdout",
     "output_type": "stream",
     "text": [
      "CPU times: total: 141 ms\n",
      "Wall time: 131 ms\n"
     ]
    },
    {
     "data": {
      "text/html": [
       "<style>#sk-container-id-6 {color: black;background-color: white;}#sk-container-id-6 pre{padding: 0;}#sk-container-id-6 div.sk-toggleable {background-color: white;}#sk-container-id-6 label.sk-toggleable__label {cursor: pointer;display: block;width: 100%;margin-bottom: 0;padding: 0.3em;box-sizing: border-box;text-align: center;}#sk-container-id-6 label.sk-toggleable__label-arrow:before {content: \"▸\";float: left;margin-right: 0.25em;color: #696969;}#sk-container-id-6 label.sk-toggleable__label-arrow:hover:before {color: black;}#sk-container-id-6 div.sk-estimator:hover label.sk-toggleable__label-arrow:before {color: black;}#sk-container-id-6 div.sk-toggleable__content {max-height: 0;max-width: 0;overflow: hidden;text-align: left;background-color: #f0f8ff;}#sk-container-id-6 div.sk-toggleable__content pre {margin: 0.2em;color: black;border-radius: 0.25em;background-color: #f0f8ff;}#sk-container-id-6 input.sk-toggleable__control:checked~div.sk-toggleable__content {max-height: 200px;max-width: 100%;overflow: auto;}#sk-container-id-6 input.sk-toggleable__control:checked~label.sk-toggleable__label-arrow:before {content: \"▾\";}#sk-container-id-6 div.sk-estimator input.sk-toggleable__control:checked~label.sk-toggleable__label {background-color: #d4ebff;}#sk-container-id-6 div.sk-label input.sk-toggleable__control:checked~label.sk-toggleable__label {background-color: #d4ebff;}#sk-container-id-6 input.sk-hidden--visually {border: 0;clip: rect(1px 1px 1px 1px);clip: rect(1px, 1px, 1px, 1px);height: 1px;margin: -1px;overflow: hidden;padding: 0;position: absolute;width: 1px;}#sk-container-id-6 div.sk-estimator {font-family: monospace;background-color: #f0f8ff;border: 1px dotted black;border-radius: 0.25em;box-sizing: border-box;margin-bottom: 0.5em;}#sk-container-id-6 div.sk-estimator:hover {background-color: #d4ebff;}#sk-container-id-6 div.sk-parallel-item::after {content: \"\";width: 100%;border-bottom: 1px solid gray;flex-grow: 1;}#sk-container-id-6 div.sk-label:hover label.sk-toggleable__label {background-color: #d4ebff;}#sk-container-id-6 div.sk-serial::before {content: \"\";position: absolute;border-left: 1px solid gray;box-sizing: border-box;top: 0;bottom: 0;left: 50%;z-index: 0;}#sk-container-id-6 div.sk-serial {display: flex;flex-direction: column;align-items: center;background-color: white;padding-right: 0.2em;padding-left: 0.2em;position: relative;}#sk-container-id-6 div.sk-item {position: relative;z-index: 1;}#sk-container-id-6 div.sk-parallel {display: flex;align-items: stretch;justify-content: center;background-color: white;position: relative;}#sk-container-id-6 div.sk-item::before, #sk-container-id-6 div.sk-parallel-item::before {content: \"\";position: absolute;border-left: 1px solid gray;box-sizing: border-box;top: 0;bottom: 0;left: 50%;z-index: -1;}#sk-container-id-6 div.sk-parallel-item {display: flex;flex-direction: column;z-index: 1;position: relative;background-color: white;}#sk-container-id-6 div.sk-parallel-item:first-child::after {align-self: flex-end;width: 50%;}#sk-container-id-6 div.sk-parallel-item:last-child::after {align-self: flex-start;width: 50%;}#sk-container-id-6 div.sk-parallel-item:only-child::after {width: 0;}#sk-container-id-6 div.sk-dashed-wrapped {border: 1px dashed gray;margin: 0 0.4em 0.5em 0.4em;box-sizing: border-box;padding-bottom: 0.4em;background-color: white;}#sk-container-id-6 div.sk-label label {font-family: monospace;font-weight: bold;display: inline-block;line-height: 1.2em;}#sk-container-id-6 div.sk-label-container {text-align: center;}#sk-container-id-6 div.sk-container {/* jupyter's `normalize.less` sets `[hidden] { display: none; }` but bootstrap.min.css set `[hidden] { display: none !important; }` so we also need the `!important` here to be able to override the default hidden behavior on the sphinx rendered scikit-learn.org. See: https://github.com/scikit-learn/scikit-learn/issues/21755 */display: inline-block !important;position: relative;}#sk-container-id-6 div.sk-text-repr-fallback {display: none;}</style><div id=\"sk-container-id-6\" class=\"sk-top-container\"><div class=\"sk-text-repr-fallback\"><pre>Pipeline(steps=[(&#x27;pipeline&#x27;,\n",
       "                 Pipeline(steps=[(&#x27;standardscaler&#x27;, StandardScaler()),\n",
       "                                 (&#x27;pca&#x27;, PCA(n_components=0.95))])),\n",
       "                (&#x27;kneighborsclassifier&#x27;, KNeighborsClassifier(n_neighbors=1))])</pre><b>In a Jupyter environment, please rerun this cell to show the HTML representation or trust the notebook. <br />On GitHub, the HTML representation is unable to render, please try loading this page with nbviewer.org.</b></div><div class=\"sk-container\" hidden><div class=\"sk-item sk-dashed-wrapped\"><div class=\"sk-label-container\"><div class=\"sk-label sk-toggleable\"><input class=\"sk-toggleable__control sk-hidden--visually\" id=\"sk-estimator-id-16\" type=\"checkbox\" ><label for=\"sk-estimator-id-16\" class=\"sk-toggleable__label sk-toggleable__label-arrow\">Pipeline</label><div class=\"sk-toggleable__content\"><pre>Pipeline(steps=[(&#x27;pipeline&#x27;,\n",
       "                 Pipeline(steps=[(&#x27;standardscaler&#x27;, StandardScaler()),\n",
       "                                 (&#x27;pca&#x27;, PCA(n_components=0.95))])),\n",
       "                (&#x27;kneighborsclassifier&#x27;, KNeighborsClassifier(n_neighbors=1))])</pre></div></div></div><div class=\"sk-serial\"><div class=\"sk-item\"><div class=\"sk-label-container\"><div class=\"sk-label sk-toggleable\"><input class=\"sk-toggleable__control sk-hidden--visually\" id=\"sk-estimator-id-17\" type=\"checkbox\" ><label for=\"sk-estimator-id-17\" class=\"sk-toggleable__label sk-toggleable__label-arrow\">pipeline: Pipeline</label><div class=\"sk-toggleable__content\"><pre>Pipeline(steps=[(&#x27;standardscaler&#x27;, StandardScaler()),\n",
       "                (&#x27;pca&#x27;, PCA(n_components=0.95))])</pre></div></div></div><div class=\"sk-serial\"><div class=\"sk-item\"><div class=\"sk-estimator sk-toggleable\"><input class=\"sk-toggleable__control sk-hidden--visually\" id=\"sk-estimator-id-18\" type=\"checkbox\" ><label for=\"sk-estimator-id-18\" class=\"sk-toggleable__label sk-toggleable__label-arrow\">StandardScaler</label><div class=\"sk-toggleable__content\"><pre>StandardScaler()</pre></div></div></div><div class=\"sk-item\"><div class=\"sk-estimator sk-toggleable\"><input class=\"sk-toggleable__control sk-hidden--visually\" id=\"sk-estimator-id-19\" type=\"checkbox\" ><label for=\"sk-estimator-id-19\" class=\"sk-toggleable__label sk-toggleable__label-arrow\">PCA</label><div class=\"sk-toggleable__content\"><pre>PCA(n_components=0.95)</pre></div></div></div></div></div><div class=\"sk-item\"><div class=\"sk-estimator sk-toggleable\"><input class=\"sk-toggleable__control sk-hidden--visually\" id=\"sk-estimator-id-20\" type=\"checkbox\" ><label for=\"sk-estimator-id-20\" class=\"sk-toggleable__label sk-toggleable__label-arrow\">KNeighborsClassifier</label><div class=\"sk-toggleable__content\"><pre>KNeighborsClassifier(n_neighbors=1)</pre></div></div></div></div></div></div></div>"
      ],
      "text/plain": [
       "Pipeline(steps=[('pipeline',\n",
       "                 Pipeline(steps=[('standardscaler', StandardScaler()),\n",
       "                                 ('pca', PCA(n_components=0.95))])),\n",
       "                ('kneighborsclassifier', KNeighborsClassifier(n_neighbors=1))])"
      ]
     },
     "execution_count": 29,
     "metadata": {},
     "output_type": "execute_result"
    }
   ],
   "source": [
    "%%time\n",
    "# Create and fit a KNN model WITH PCA.\n",
    "knn_pca = make_pipeline(pipe, KNeighborsClassifier(n_neighbors=1))\n",
    "\n",
    "knn_pca.fit(X_train, y_train)"
   ]
  },
  {
   "cell_type": "code",
   "execution_count": 30,
   "metadata": {
    "id": "5qNozC652_Ki"
   },
   "outputs": [
    {
     "name": "stdout",
     "output_type": "stream",
     "text": [
      "CPU times: total: 4.48 s\n",
      "Wall time: 1.17 s\n"
     ]
    }
   ],
   "source": [
    "%%time\n",
    "# Make predictions and evaluate the model using classification_report\n",
    "preds_pca = knn_pca.predict(X_test)"
   ]
  },
  {
   "cell_type": "code",
   "execution_count": 32,
   "metadata": {},
   "outputs": [
    {
     "name": "stdout",
     "output_type": "stream",
     "text": [
      "              precision    recall  f1-score   support\n",
      "\n",
      "           1       0.77      0.74      0.75      1345\n",
      "           2       0.78      0.76      0.77      1367\n",
      "           3       0.83      0.83      0.83      1304\n",
      "           4       0.85      0.84      0.84      1327\n",
      "           5       0.69      0.69      0.69      1317\n",
      "           6       0.64      0.73      0.68      1324\n",
      "           7       0.99      0.99      0.99      1379\n",
      "           8       0.77      0.76      0.76      1300\n",
      "           9       0.84      0.81      0.82      1254\n",
      "          10       0.78      0.79      0.79      1341\n",
      "          11       1.00      1.00      1.00      1370\n",
      "\n",
      "    accuracy                           0.81     14628\n",
      "   macro avg       0.81      0.81      0.81     14628\n",
      "weighted avg       0.81      0.81      0.81     14628\n",
      "\n"
     ]
    }
   ],
   "source": [
    "print(classification_report(y_test, preds_pca))"
   ]
  },
  {
   "cell_type": "markdown",
   "metadata": {
    "id": "n1Qng8s4byll"
   },
   "source": [
    "# Discuss:\n",
    "\n",
    "1. What were the benefits of using PCA for this dataset?\n",
    "     Both improvement of the processing time, and incresing the accuracy.\n",
    "2. What were the drawbacks?\n",
    "    Probably overfiting, and loosing of the some variability. \n",
    "3. Which model took longer to train?  \n",
    "    with PCA\n",
    "  - Which took longer to predict?  \n",
    "    without PCA\n",
    "  - Why might this be?  \n",
    "    training took longer with PCA because we have one more step in the pipeline, the PCA itself. \n",
    "  - What does this tell you about using PCA in a pipeline?\n",
    "    That it may consume time in the training process. "
   ]
  },
  {
   "cell_type": "code",
   "execution_count": null,
   "metadata": {},
   "outputs": [],
   "source": []
  },
  {
   "cell_type": "markdown",
   "metadata": {
    "id": "zCqP-S5pen_n"
   },
   "source": [
    "## Bonus! \n",
    "\n",
    "This is just a default model, but you could try a gridsearch or other classifier algorithms to reduce overfitting and see if your group can get a better result!\n",
    "\n",
    "#### Hint\n",
    "You can use gridsearch to change the number of componenents that the PCA is keeping, too!  However, remember not to search over too many hyperparameter values or your search will take too long!"
   ]
  },
  {
   "cell_type": "code",
   "execution_count": 33,
   "metadata": {
    "id": "U6LJCyhs4Y2R"
   },
   "outputs": [
    {
     "data": {
      "text/plain": [
       "{'memory': None,\n",
       " 'steps': [('pipeline',\n",
       "   Pipeline(steps=[('standardscaler', StandardScaler()),\n",
       "                   ('pca', PCA(n_components=0.95))])),\n",
       "  ('kneighborsclassifier', KNeighborsClassifier(n_neighbors=1))],\n",
       " 'verbose': False,\n",
       " 'pipeline': Pipeline(steps=[('standardscaler', StandardScaler()),\n",
       "                 ('pca', PCA(n_components=0.95))]),\n",
       " 'kneighborsclassifier': KNeighborsClassifier(n_neighbors=1),\n",
       " 'pipeline__memory': None,\n",
       " 'pipeline__steps': [('standardscaler', StandardScaler()),\n",
       "  ('pca', PCA(n_components=0.95))],\n",
       " 'pipeline__verbose': False,\n",
       " 'pipeline__standardscaler': StandardScaler(),\n",
       " 'pipeline__pca': PCA(n_components=0.95),\n",
       " 'pipeline__standardscaler__copy': True,\n",
       " 'pipeline__standardscaler__with_mean': True,\n",
       " 'pipeline__standardscaler__with_std': True,\n",
       " 'pipeline__pca__copy': True,\n",
       " 'pipeline__pca__iterated_power': 'auto',\n",
       " 'pipeline__pca__n_components': 0.95,\n",
       " 'pipeline__pca__n_oversamples': 10,\n",
       " 'pipeline__pca__power_iteration_normalizer': 'auto',\n",
       " 'pipeline__pca__random_state': None,\n",
       " 'pipeline__pca__svd_solver': 'auto',\n",
       " 'pipeline__pca__tol': 0.0,\n",
       " 'pipeline__pca__whiten': False,\n",
       " 'kneighborsclassifier__algorithm': 'auto',\n",
       " 'kneighborsclassifier__leaf_size': 30,\n",
       " 'kneighborsclassifier__metric': 'minkowski',\n",
       " 'kneighborsclassifier__metric_params': None,\n",
       " 'kneighborsclassifier__n_jobs': None,\n",
       " 'kneighborsclassifier__n_neighbors': 1,\n",
       " 'kneighborsclassifier__p': 2,\n",
       " 'kneighborsclassifier__weights': 'uniform'}"
      ]
     },
     "execution_count": 33,
     "metadata": {},
     "output_type": "execute_result"
    }
   ],
   "source": [
    "knn_pca.get_params()"
   ]
  },
  {
   "cell_type": "code",
   "execution_count": 34,
   "metadata": {
    "id": "YUJUvhZls6PE"
   },
   "outputs": [
    {
     "name": "stdout",
     "output_type": "stream",
     "text": [
      "CPU times: total: 2.06 s\n",
      "Wall time: 3min 25s\n"
     ]
    },
    {
     "data": {
      "text/html": [
       "<style>#sk-container-id-7 {color: black;background-color: white;}#sk-container-id-7 pre{padding: 0;}#sk-container-id-7 div.sk-toggleable {background-color: white;}#sk-container-id-7 label.sk-toggleable__label {cursor: pointer;display: block;width: 100%;margin-bottom: 0;padding: 0.3em;box-sizing: border-box;text-align: center;}#sk-container-id-7 label.sk-toggleable__label-arrow:before {content: \"▸\";float: left;margin-right: 0.25em;color: #696969;}#sk-container-id-7 label.sk-toggleable__label-arrow:hover:before {color: black;}#sk-container-id-7 div.sk-estimator:hover label.sk-toggleable__label-arrow:before {color: black;}#sk-container-id-7 div.sk-toggleable__content {max-height: 0;max-width: 0;overflow: hidden;text-align: left;background-color: #f0f8ff;}#sk-container-id-7 div.sk-toggleable__content pre {margin: 0.2em;color: black;border-radius: 0.25em;background-color: #f0f8ff;}#sk-container-id-7 input.sk-toggleable__control:checked~div.sk-toggleable__content {max-height: 200px;max-width: 100%;overflow: auto;}#sk-container-id-7 input.sk-toggleable__control:checked~label.sk-toggleable__label-arrow:before {content: \"▾\";}#sk-container-id-7 div.sk-estimator input.sk-toggleable__control:checked~label.sk-toggleable__label {background-color: #d4ebff;}#sk-container-id-7 div.sk-label input.sk-toggleable__control:checked~label.sk-toggleable__label {background-color: #d4ebff;}#sk-container-id-7 input.sk-hidden--visually {border: 0;clip: rect(1px 1px 1px 1px);clip: rect(1px, 1px, 1px, 1px);height: 1px;margin: -1px;overflow: hidden;padding: 0;position: absolute;width: 1px;}#sk-container-id-7 div.sk-estimator {font-family: monospace;background-color: #f0f8ff;border: 1px dotted black;border-radius: 0.25em;box-sizing: border-box;margin-bottom: 0.5em;}#sk-container-id-7 div.sk-estimator:hover {background-color: #d4ebff;}#sk-container-id-7 div.sk-parallel-item::after {content: \"\";width: 100%;border-bottom: 1px solid gray;flex-grow: 1;}#sk-container-id-7 div.sk-label:hover label.sk-toggleable__label {background-color: #d4ebff;}#sk-container-id-7 div.sk-serial::before {content: \"\";position: absolute;border-left: 1px solid gray;box-sizing: border-box;top: 0;bottom: 0;left: 50%;z-index: 0;}#sk-container-id-7 div.sk-serial {display: flex;flex-direction: column;align-items: center;background-color: white;padding-right: 0.2em;padding-left: 0.2em;position: relative;}#sk-container-id-7 div.sk-item {position: relative;z-index: 1;}#sk-container-id-7 div.sk-parallel {display: flex;align-items: stretch;justify-content: center;background-color: white;position: relative;}#sk-container-id-7 div.sk-item::before, #sk-container-id-7 div.sk-parallel-item::before {content: \"\";position: absolute;border-left: 1px solid gray;box-sizing: border-box;top: 0;bottom: 0;left: 50%;z-index: -1;}#sk-container-id-7 div.sk-parallel-item {display: flex;flex-direction: column;z-index: 1;position: relative;background-color: white;}#sk-container-id-7 div.sk-parallel-item:first-child::after {align-self: flex-end;width: 50%;}#sk-container-id-7 div.sk-parallel-item:last-child::after {align-self: flex-start;width: 50%;}#sk-container-id-7 div.sk-parallel-item:only-child::after {width: 0;}#sk-container-id-7 div.sk-dashed-wrapped {border: 1px dashed gray;margin: 0 0.4em 0.5em 0.4em;box-sizing: border-box;padding-bottom: 0.4em;background-color: white;}#sk-container-id-7 div.sk-label label {font-family: monospace;font-weight: bold;display: inline-block;line-height: 1.2em;}#sk-container-id-7 div.sk-label-container {text-align: center;}#sk-container-id-7 div.sk-container {/* jupyter's `normalize.less` sets `[hidden] { display: none; }` but bootstrap.min.css set `[hidden] { display: none !important; }` so we also need the `!important` here to be able to override the default hidden behavior on the sphinx rendered scikit-learn.org. See: https://github.com/scikit-learn/scikit-learn/issues/21755 */display: inline-block !important;position: relative;}#sk-container-id-7 div.sk-text-repr-fallback {display: none;}</style><div id=\"sk-container-id-7\" class=\"sk-top-container\"><div class=\"sk-text-repr-fallback\"><pre>GridSearchCV(cv=5,\n",
       "             estimator=Pipeline(steps=[(&#x27;pipeline&#x27;,\n",
       "                                        Pipeline(steps=[(&#x27;standardscaler&#x27;,\n",
       "                                                         StandardScaler()),\n",
       "                                                        (&#x27;pca&#x27;,\n",
       "                                                         PCA(n_components=0.95))])),\n",
       "                                       (&#x27;kneighborsclassifier&#x27;,\n",
       "                                        KNeighborsClassifier(n_neighbors=1))]),\n",
       "             n_jobs=-1,\n",
       "             param_grid={&#x27;kneighborsclassifier__n_neighbors&#x27;: [1, 2, 3, 4, 5, 6,\n",
       "                                                               7, 8, 9, 10],\n",
       "                         &#x27;pipeline__pca__n_components&#x27;: [1, 0.95, 0.9, 0.85,\n",
       "                                                         0.8]})</pre><b>In a Jupyter environment, please rerun this cell to show the HTML representation or trust the notebook. <br />On GitHub, the HTML representation is unable to render, please try loading this page with nbviewer.org.</b></div><div class=\"sk-container\" hidden><div class=\"sk-item sk-dashed-wrapped\"><div class=\"sk-label-container\"><div class=\"sk-label sk-toggleable\"><input class=\"sk-toggleable__control sk-hidden--visually\" id=\"sk-estimator-id-21\" type=\"checkbox\" ><label for=\"sk-estimator-id-21\" class=\"sk-toggleable__label sk-toggleable__label-arrow\">GridSearchCV</label><div class=\"sk-toggleable__content\"><pre>GridSearchCV(cv=5,\n",
       "             estimator=Pipeline(steps=[(&#x27;pipeline&#x27;,\n",
       "                                        Pipeline(steps=[(&#x27;standardscaler&#x27;,\n",
       "                                                         StandardScaler()),\n",
       "                                                        (&#x27;pca&#x27;,\n",
       "                                                         PCA(n_components=0.95))])),\n",
       "                                       (&#x27;kneighborsclassifier&#x27;,\n",
       "                                        KNeighborsClassifier(n_neighbors=1))]),\n",
       "             n_jobs=-1,\n",
       "             param_grid={&#x27;kneighborsclassifier__n_neighbors&#x27;: [1, 2, 3, 4, 5, 6,\n",
       "                                                               7, 8, 9, 10],\n",
       "                         &#x27;pipeline__pca__n_components&#x27;: [1, 0.95, 0.9, 0.85,\n",
       "                                                         0.8]})</pre></div></div></div><div class=\"sk-parallel\"><div class=\"sk-parallel-item\"><div class=\"sk-item\"><div class=\"sk-label-container\"><div class=\"sk-label sk-toggleable\"><input class=\"sk-toggleable__control sk-hidden--visually\" id=\"sk-estimator-id-22\" type=\"checkbox\" ><label for=\"sk-estimator-id-22\" class=\"sk-toggleable__label sk-toggleable__label-arrow\">estimator: Pipeline</label><div class=\"sk-toggleable__content\"><pre>Pipeline(steps=[(&#x27;pipeline&#x27;,\n",
       "                 Pipeline(steps=[(&#x27;standardscaler&#x27;, StandardScaler()),\n",
       "                                 (&#x27;pca&#x27;, PCA(n_components=0.95))])),\n",
       "                (&#x27;kneighborsclassifier&#x27;, KNeighborsClassifier(n_neighbors=1))])</pre></div></div></div><div class=\"sk-serial\"><div class=\"sk-item\"><div class=\"sk-serial\"><div class=\"sk-item\"><div class=\"sk-label-container\"><div class=\"sk-label sk-toggleable\"><input class=\"sk-toggleable__control sk-hidden--visually\" id=\"sk-estimator-id-23\" type=\"checkbox\" ><label for=\"sk-estimator-id-23\" class=\"sk-toggleable__label sk-toggleable__label-arrow\">pipeline: Pipeline</label><div class=\"sk-toggleable__content\"><pre>Pipeline(steps=[(&#x27;standardscaler&#x27;, StandardScaler()),\n",
       "                (&#x27;pca&#x27;, PCA(n_components=0.95))])</pre></div></div></div><div class=\"sk-serial\"><div class=\"sk-item\"><div class=\"sk-estimator sk-toggleable\"><input class=\"sk-toggleable__control sk-hidden--visually\" id=\"sk-estimator-id-24\" type=\"checkbox\" ><label for=\"sk-estimator-id-24\" class=\"sk-toggleable__label sk-toggleable__label-arrow\">StandardScaler</label><div class=\"sk-toggleable__content\"><pre>StandardScaler()</pre></div></div></div><div class=\"sk-item\"><div class=\"sk-estimator sk-toggleable\"><input class=\"sk-toggleable__control sk-hidden--visually\" id=\"sk-estimator-id-25\" type=\"checkbox\" ><label for=\"sk-estimator-id-25\" class=\"sk-toggleable__label sk-toggleable__label-arrow\">PCA</label><div class=\"sk-toggleable__content\"><pre>PCA(n_components=0.95)</pre></div></div></div></div></div><div class=\"sk-item\"><div class=\"sk-estimator sk-toggleable\"><input class=\"sk-toggleable__control sk-hidden--visually\" id=\"sk-estimator-id-26\" type=\"checkbox\" ><label for=\"sk-estimator-id-26\" class=\"sk-toggleable__label sk-toggleable__label-arrow\">KNeighborsClassifier</label><div class=\"sk-toggleable__content\"><pre>KNeighborsClassifier(n_neighbors=1)</pre></div></div></div></div></div></div></div></div></div></div></div></div>"
      ],
      "text/plain": [
       "GridSearchCV(cv=5,\n",
       "             estimator=Pipeline(steps=[('pipeline',\n",
       "                                        Pipeline(steps=[('standardscaler',\n",
       "                                                         StandardScaler()),\n",
       "                                                        ('pca',\n",
       "                                                         PCA(n_components=0.95))])),\n",
       "                                       ('kneighborsclassifier',\n",
       "                                        KNeighborsClassifier(n_neighbors=1))]),\n",
       "             n_jobs=-1,\n",
       "             param_grid={'kneighborsclassifier__n_neighbors': [1, 2, 3, 4, 5, 6,\n",
       "                                                               7, 8, 9, 10],\n",
       "                         'pipeline__pca__n_components': [1, 0.95, 0.9, 0.85,\n",
       "                                                         0.8]})"
      ]
     },
     "execution_count": 34,
     "metadata": {},
     "output_type": "execute_result"
    }
   ],
   "source": [
    "%%time\n",
    "params = {'pipeline__pca__n_components': [1, .95, .9, .85, .8],\n",
    "          'kneighborsclassifier__n_neighbors': list(range(1, 11, 1))\n",
    "         }\n",
    "\n",
    "knn_gridsearch = GridSearchCV(knn_pca, param_grid=params, n_jobs=-1, cv=5)\n",
    "\n",
    "knn_gridsearch.fit(X_train, y_train)"
   ]
  },
  {
   "cell_type": "code",
   "execution_count": 35,
   "metadata": {},
   "outputs": [
    {
     "data": {
      "text/plain": [
       "{'kneighborsclassifier__n_neighbors': 9, 'pipeline__pca__n_components': 0.95}"
      ]
     },
     "execution_count": 35,
     "metadata": {},
     "output_type": "execute_result"
    }
   ],
   "source": [
    "knn_gridsearch.best_params_"
   ]
  },
  {
   "cell_type": "code",
   "execution_count": 36,
   "metadata": {},
   "outputs": [],
   "source": [
    "best_knn = knn_gridsearch.best_estimator_"
   ]
  },
  {
   "cell_type": "code",
   "execution_count": 38,
   "metadata": {},
   "outputs": [
    {
     "name": "stdout",
     "output_type": "stream",
     "text": [
      "CPU times: total: 7.92 s\n",
      "Wall time: 2.32 s\n"
     ]
    },
    {
     "data": {
      "text/plain": [
       "array([ 3, 11,  9,  8,  7], dtype=int64)"
      ]
     },
     "execution_count": 38,
     "metadata": {},
     "output_type": "execute_result"
    }
   ],
   "source": [
    "%%time\n",
    "pred_gs = best_knn.predict(X_test)\n",
    "\n",
    "pred_gs[:5]"
   ]
  },
  {
   "cell_type": "code",
   "execution_count": 39,
   "metadata": {},
   "outputs": [
    {
     "name": "stdout",
     "output_type": "stream",
     "text": [
      "              precision    recall  f1-score   support\n",
      "\n",
      "           1       0.78      0.79      0.78      1345\n",
      "           2       0.79      0.82      0.80      1367\n",
      "           3       0.82      0.89      0.85      1304\n",
      "           4       0.86      0.90      0.88      1327\n",
      "           5       0.75      0.71      0.73      1317\n",
      "           6       0.69      0.75      0.72      1324\n",
      "           7       1.00      0.99      0.99      1379\n",
      "           8       0.83      0.75      0.79      1300\n",
      "           9       0.88      0.81      0.85      1254\n",
      "          10       0.83      0.79      0.81      1341\n",
      "          11       1.00      1.00      1.00      1370\n",
      "\n",
      "    accuracy                           0.84     14628\n",
      "   macro avg       0.84      0.84      0.84     14628\n",
      "weighted avg       0.84      0.84      0.84     14628\n",
      "\n"
     ]
    }
   ],
   "source": [
    "print(classification_report(y_test, pred_gs))"
   ]
  },
  {
   "cell_type": "code",
   "execution_count": null,
   "metadata": {},
   "outputs": [],
   "source": []
  }
 ],
 "metadata": {
  "colab": {
   "include_colab_link": true,
   "provenance": []
  },
  "kernelspec": {
   "display_name": "Python (dojo-env)",
   "language": "python",
   "name": "dojo-env"
  },
  "language_info": {
   "codemirror_mode": {
    "name": "ipython",
    "version": 3
   },
   "file_extension": ".py",
   "mimetype": "text/x-python",
   "name": "python",
   "nbconvert_exporter": "python",
   "pygments_lexer": "ipython3",
   "version": "3.9.15"
  }
 },
 "nbformat": 4,
 "nbformat_minor": 4
}
